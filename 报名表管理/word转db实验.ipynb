{
 "cells": [
  {
   "cell_type": "code",
   "execution_count": 2,
   "metadata": {
    "collapsed": true
   },
   "outputs": [],
   "source": [
    "from docx import Document\n",
    "\n",
    "# 创建一个新的Word文档\n",
    "doc = Document()\n",
    "\n",
    "# 定义数据\n",
    "data = {\n",
    "    \"姓名\": \"a1\",\n",
    "    \"性别\": \"a2\",\n",
    "    \"年龄\": \"a3\"\n",
    "}\n",
    "\n",
    "# 向文档中添加内容\n",
    "for key, value in data.items():\n",
    "    # 添加标题\n",
    "    doc.add_heading(key, level=1)\n",
    "\n",
    "    # 添加内容\n",
    "    doc.add_paragraph(value)\n",
    "\n",
    "# 保存文档\n",
    "doc.save(\"个人信息.docx\")"
   ]
  }
 ],
 "metadata": {
  "kernelspec": {
   "display_name": "Python 3",
   "language": "python",
   "name": "python3"
  },
  "language_info": {
   "codemirror_mode": {
    "name": "ipython",
    "version": 2
   },
   "file_extension": ".py",
   "mimetype": "text/x-python",
   "name": "python",
   "nbconvert_exporter": "python",
   "pygments_lexer": "ipython2",
   "version": "2.7.6"
  }
 },
 "nbformat": 4,
 "nbformat_minor": 0
}